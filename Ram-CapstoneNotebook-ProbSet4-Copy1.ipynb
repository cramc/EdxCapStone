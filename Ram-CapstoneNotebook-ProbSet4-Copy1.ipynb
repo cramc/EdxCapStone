{
    "cells": [
        {
            "cell_type": "code",
            "execution_count": 1,
            "metadata": {
                "scrolled": true
            },
            "outputs": [],
            "source": "# The code was removed by Watson Studio for sharing."
        },
        {
            "cell_type": "markdown",
            "metadata": {},
            "source": "### Creating a model using Simple Linear Regression algorithm to predict \"The number of future complaints\" (of the top complaint type)"
        },
        {
            "cell_type": "markdown",
            "metadata": {},
            "source": "### Step 1 - Create pandas dataframe \"df_data_1\" with only 2 columns from the data available in csv format"
        },
        {
            "cell_type": "code",
            "execution_count": 19,
            "metadata": {
                "scrolled": true
            },
            "outputs": [
                {
                    "data": {
                        "text/html": "<div>\n<style scoped>\n    .dataframe tbody tr th:only-of-type {\n        vertical-align: middle;\n    }\n\n    .dataframe tbody tr th {\n        vertical-align: top;\n    }\n\n    .dataframe thead th {\n        text-align: right;\n    }\n</style>\n<table border=\"1\" class=\"dataframe\">\n  <thead>\n    <tr style=\"text-align: right;\">\n      <th></th>\n      <th>created_date</th>\n      <th>complaint_type</th>\n    </tr>\n  </thead>\n  <tbody>\n    <tr>\n      <th>0</th>\n      <td>2019-09-23 23:44:07</td>\n      <td>GENERAL</td>\n    </tr>\n    <tr>\n      <th>1</th>\n      <td>2019-09-23 22:45:58</td>\n      <td>APPLIANCE</td>\n    </tr>\n    <tr>\n      <th>2</th>\n      <td>2019-09-23 05:27:25</td>\n      <td>WATER LEAK</td>\n    </tr>\n    <tr>\n      <th>3</th>\n      <td>2019-09-23 07:47:31</td>\n      <td>PLUMBING</td>\n    </tr>\n    <tr>\n      <th>4</th>\n      <td>2019-09-23 22:02:53</td>\n      <td>GENERAL</td>\n    </tr>\n  </tbody>\n</table>\n</div>",
                        "text/plain": "         created_date complaint_type\n0 2019-09-23 23:44:07        GENERAL\n1 2019-09-23 22:45:58      APPLIANCE\n2 2019-09-23 05:27:25     WATER LEAK\n3 2019-09-23 07:47:31       PLUMBING\n4 2019-09-23 22:02:53        GENERAL"
                    },
                    "execution_count": 19,
                    "metadata": {},
                    "output_type": "execute_result"
                }
            ],
            "source": "col = ['created_date','complaint_type'] \n\nbody = client_273faebd9bbe4696bb7782fea6804875.get_object(Bucket='capstoneex1ram-donotdelete-pr-c3pfkhjz0s3lno',Key='fhrw-4uyv.csv')['Body']\n# add missing __iter__ method, so pandas accepts body as file-like object\nif not hasattr(body, \"__iter__\"): body.__iter__ = types.MethodType( __iter__, body )\n    \ndf_data_1 = pd.read_csv(body, usecols = col, parse_dates = ['created_date'])\ndf_data_1.head()\n"
        },
        {
            "cell_type": "markdown",
            "metadata": {},
            "source": "### Step 2 - Import all required libraries"
        },
        {
            "cell_type": "code",
            "execution_count": 7,
            "metadata": {},
            "outputs": [],
            "source": "%matplotlib inline\nimport pandas as pd\nimport numpy as np\nimport matplotlib as mpl\nimport matplotlib.pyplot as plt\nimport seaborn as sns"
        },
        {
            "cell_type": "markdown",
            "metadata": {},
            "source": "### Step 3 - Calculate total number of complaints for each complaint type"
        },
        {
            "cell_type": "code",
            "execution_count": 8,
            "metadata": {},
            "outputs": [
                {
                    "data": {
                        "text/plain": "HEAT/HOT WATER            1152173\nHEATING                    887869\nPLUMBING                   703354\nGENERAL CONSTRUCTION       500863\nUNSANITARY CONDITION       438182\nPAINT - PLASTER            361258\nPAINT/PLASTER              341577\nELECTRIC                   303834\nNONCONST                   260890\nDOOR/WINDOW                200360\nWATER LEAK                 188142\nGENERAL                    146746\nFLOORING/STAIRS            135528\nAPPLIANCE                  110021\nHPD Literature Request      52830\nSAFETY                      50182\nOUTSIDE BUILDING             7038\nELEVATOR                     6466\nUnsanitary Condition         5499\nCONSTRUCTION                 5078\nGeneral                      1163\nSafety                        424\nSTRUCTURAL                     16\nPlumbing                       11\nAGENCY                          9\nVACANT APARTMENT                8\nOutside Building                6\nAppliance                       4\nMold                            1\nName: complaint_type, dtype: int64"
                    },
                    "execution_count": 8,
                    "metadata": {},
                    "output_type": "execute_result"
                }
            ],
            "source": "df_data_1[\"complaint_type\"].value_counts()"
        },
        {
            "cell_type": "markdown",
            "metadata": {},
            "source": "### Step 4 - To consider both HEAT/HOT WATER and HEATING complaints for this problem, replacing values HEATING with HEAT/HOT WATER\n"
        },
        {
            "cell_type": "code",
            "execution_count": 9,
            "metadata": {},
            "outputs": [],
            "source": "df_data_1[\"complaint_type\"] = np.where(df_data_1[\"complaint_type\"]=='HEATING','HEAT/HOT WATER',df_data_1[\"complaint_type\"])"
        },
        {
            "cell_type": "markdown",
            "metadata": {},
            "source": "### Step 5 - Re-calculate the total number of complaints for each complaint type"
        },
        {
            "cell_type": "code",
            "execution_count": 10,
            "metadata": {},
            "outputs": [
                {
                    "data": {
                        "text/plain": "HEAT/HOT WATER            2040042\nPLUMBING                   703354\nGENERAL CONSTRUCTION       500863\nUNSANITARY CONDITION       438182\nPAINT - PLASTER            361258\nPAINT/PLASTER              341577\nELECTRIC                   303834\nNONCONST                   260890\nDOOR/WINDOW                200360\nWATER LEAK                 188142\nGENERAL                    146746\nFLOORING/STAIRS            135528\nAPPLIANCE                  110021\nHPD Literature Request      52830\nSAFETY                      50182\nOUTSIDE BUILDING             7038\nELEVATOR                     6466\nUnsanitary Condition         5499\nCONSTRUCTION                 5078\nGeneral                      1163\nSafety                        424\nSTRUCTURAL                     16\nPlumbing                       11\nAGENCY                          9\nVACANT APARTMENT                8\nOutside Building                6\nAppliance                       4\nMold                            1\nName: complaint_type, dtype: int64"
                    },
                    "execution_count": 10,
                    "metadata": {},
                    "output_type": "execute_result"
                }
            ],
            "source": "df_data_1[\"complaint_type\"].value_counts()"
        },
        {
            "cell_type": "markdown",
            "metadata": {},
            "source": "### Step 6 - Create a sub dataframe \"df_data_top_complaint\" that contains only samples with top complaint type i.e. HEAT/HOT WATER, from the main dataframe \"df_data_1\""
        },
        {
            "cell_type": "code",
            "execution_count": 21,
            "metadata": {},
            "outputs": [
                {
                    "data": {
                        "text/html": "<div>\n<style scoped>\n    .dataframe tbody tr th:only-of-type {\n        vertical-align: middle;\n    }\n\n    .dataframe tbody tr th {\n        vertical-align: top;\n    }\n\n    .dataframe thead th {\n        text-align: right;\n    }\n</style>\n<table border=\"1\" class=\"dataframe\">\n  <thead>\n    <tr style=\"text-align: right;\">\n      <th></th>\n      <th>created_date</th>\n      <th>complaint_type</th>\n    </tr>\n  </thead>\n  <tbody>\n    <tr>\n      <th>0</th>\n      <td>2019-09-23 22:37:17</td>\n      <td>HEAT/HOT WATER</td>\n    </tr>\n    <tr>\n      <th>1</th>\n      <td>2019-09-23 22:33:12</td>\n      <td>HEAT/HOT WATER</td>\n    </tr>\n    <tr>\n      <th>2</th>\n      <td>2019-09-23 06:21:40</td>\n      <td>HEAT/HOT WATER</td>\n    </tr>\n    <tr>\n      <th>3</th>\n      <td>2019-09-23 06:36:46</td>\n      <td>HEAT/HOT WATER</td>\n    </tr>\n    <tr>\n      <th>4</th>\n      <td>2019-09-23 09:07:25</td>\n      <td>HEAT/HOT WATER</td>\n    </tr>\n  </tbody>\n</table>\n</div>",
                        "text/plain": "         created_date  complaint_type\n0 2019-09-23 22:37:17  HEAT/HOT WATER\n1 2019-09-23 22:33:12  HEAT/HOT WATER\n2 2019-09-23 06:21:40  HEAT/HOT WATER\n3 2019-09-23 06:36:46  HEAT/HOT WATER\n4 2019-09-23 09:07:25  HEAT/HOT WATER"
                    },
                    "execution_count": 21,
                    "metadata": {},
                    "output_type": "execute_result"
                }
            ],
            "source": "df_data_top_complaint = df_data_1[df_data_1[\"complaint_type\"]==\"HEAT/HOT WATER\"].reset_index(drop=True)\ndf_data_top_complaint.head()"
        },
        {
            "cell_type": "code",
            "execution_count": null,
            "metadata": {},
            "outputs": [],
            "source": "### Step 7 - Create time series to get and analyze data with respect to every year, summed upon each month"
        },
        {
            "cell_type": "code",
            "execution_count": 22,
            "metadata": {},
            "outputs": [
                {
                    "data": {
                        "text/plain": "created_date\n2014-03-31    14462\n2014-04-30    13382\n2014-05-31     4262\n2014-06-30     2747\n2014-07-31     2490\n2014-08-31     2163\n2014-09-30     2368\n2014-10-31    16733\n2014-11-30    42458\n2014-12-31    31702\nFreq: M, dtype: int64"
                    },
                    "execution_count": 22,
                    "metadata": {},
                    "output_type": "execute_result"
                }
            ],
            "source": "time_series = pd.Series(1, index = df_data_top_complaint['created_date'])\ntime_series = time_series.resample('M').sum()\ntime_series.head(10)"
        },
        {
            "cell_type": "markdown",
            "metadata": {},
            "source": "### Step 8 - Plot a \"line diagram\" to analyze occurance of top complaint type by year"
        },
        {
            "cell_type": "code",
            "execution_count": 23,
            "metadata": {},
            "outputs": [
                {
                    "data": {
                        "text/plain": "<matplotlib.axes._subplots.AxesSubplot at 0x7fa390e434a8>"
                    },
                    "execution_count": 23,
                    "metadata": {},
                    "output_type": "execute_result"
                },
                {
                    "data": {
                        "image/png": "[encoded data removed]",
                        "text/plain": "<Figure size 432x288 with 1 Axes>"
                    },
                    "metadata": {
                        "needs_background": "light"
                    },
                    "output_type": "display_data"
                }
            ],
            "source": "import matplotlib.pyplot as plt\ntime_series.plot(kind='line')"
        },
        {
            "cell_type": "markdown",
            "metadata": {},
            "source": "### Conclusions\n### From the above graph, we can conclude that number of top complaint type i.e. HEAT/HOT WATER increases at the beginning of every year i.e. during winters and decreses after mid-year i.e. during summers'"
        },
        {
            "cell_type": "markdown",
            "metadata": {},
            "source": "### Step 9 - Calculate the total number of top complaint type per year"
        },
        {
            "cell_type": "code",
            "execution_count": 24,
            "metadata": {},
            "outputs": [],
            "source": "df_group = df_data_top_complaint.groupby(df_data_top_complaint.created_date.dt.year)"
        },
        {
            "cell_type": "markdown",
            "metadata": {},
            "source": "### Step 10 - Conver thet Group By Object to Dataframe"
        },
        {
            "cell_type": "code",
            "execution_count": 25,
            "metadata": {},
            "outputs": [
                {
                    "data": {
                        "text/html": "<div>\n<style scoped>\n    .dataframe tbody tr th:only-of-type {\n        vertical-align: middle;\n    }\n\n    .dataframe tbody tr th {\n        vertical-align: top;\n    }\n\n    .dataframe thead th {\n        text-align: right;\n    }\n</style>\n<table border=\"1\" class=\"dataframe\">\n  <thead>\n    <tr style=\"text-align: right;\">\n      <th></th>\n      <th>created_date</th>\n      <th>complaint_type</th>\n    </tr>\n  </thead>\n  <tbody>\n    <tr>\n      <th>0</th>\n      <td>2014</td>\n      <td>132767</td>\n    </tr>\n    <tr>\n      <th>1</th>\n      <td>2015</td>\n      <td>225706</td>\n    </tr>\n    <tr>\n      <th>2</th>\n      <td>2016</td>\n      <td>227959</td>\n    </tr>\n    <tr>\n      <th>3</th>\n      <td>2017</td>\n      <td>213521</td>\n    </tr>\n    <tr>\n      <th>4</th>\n      <td>2018</td>\n      <td>223835</td>\n    </tr>\n    <tr>\n      <th>5</th>\n      <td>2019</td>\n      <td>128385</td>\n    </tr>\n  </tbody>\n</table>\n</div>",
                        "text/plain": "   created_date  complaint_type\n0          2014          132767\n1          2015          225706\n2          2016          227959\n3          2017          213521\n4          2018          223835\n5          2019          128385"
                    },
                    "execution_count": 25,
                    "metadata": {},
                    "output_type": "execute_result"
                }
            ],
            "source": "df_data_1 = df_group[\"complaint_type\"].size().to_frame().reset_index()\ndf_data_1"
        },
        {
            "cell_type": "markdown",
            "metadata": {},
            "source": "### Step 11 - Check the \"type\" to confirm if conversion is successfully completed"
        },
        {
            "cell_type": "code",
            "execution_count": 26,
            "metadata": {},
            "outputs": [
                {
                    "data": {
                        "text/plain": "pandas.core.frame.DataFrame"
                    },
                    "execution_count": 26,
                    "metadata": {},
                    "output_type": "execute_result"
                }
            ],
            "source": "type(df_data_1)"
        },
        {
            "cell_type": "markdown",
            "metadata": {},
            "source": "### Step 12 - Remove complaints from year 2019 as it only contains data till September 2019 and not for the whole year"
        },
        {
            "cell_type": "code",
            "execution_count": 28,
            "metadata": {},
            "outputs": [
                {
                    "data": {
                        "text/html": "<div>\n<style scoped>\n    .dataframe tbody tr th:only-of-type {\n        vertical-align: middle;\n    }\n\n    .dataframe tbody tr th {\n        vertical-align: top;\n    }\n\n    .dataframe thead th {\n        text-align: right;\n    }\n</style>\n<table border=\"1\" class=\"dataframe\">\n  <thead>\n    <tr style=\"text-align: right;\">\n      <th></th>\n      <th>created_date</th>\n      <th>complaint_type</th>\n    </tr>\n  </thead>\n  <tbody>\n    <tr>\n      <th>0</th>\n      <td>2014</td>\n      <td>132767</td>\n    </tr>\n    <tr>\n      <th>1</th>\n      <td>2015</td>\n      <td>225706</td>\n    </tr>\n    <tr>\n      <th>2</th>\n      <td>2016</td>\n      <td>227959</td>\n    </tr>\n    <tr>\n      <th>3</th>\n      <td>2017</td>\n      <td>213521</td>\n    </tr>\n    <tr>\n      <th>4</th>\n      <td>2018</td>\n      <td>223835</td>\n    </tr>\n  </tbody>\n</table>\n</div>",
                        "text/plain": "   created_date  complaint_type\n0          2014          132767\n1          2015          225706\n2          2016          227959\n3          2017          213521\n4          2018          223835"
                    },
                    "execution_count": 28,
                    "metadata": {},
                    "output_type": "execute_result"
                }
            ],
            "source": "df_data_1.drop(df_data_1.tail(1).index,inplace=True)\ndf_data_1"
        },
        {
            "cell_type": "markdown",
            "metadata": {},
            "source": "### Step 13 - Plot a bar graph to visually analyze distribution of data i.e. top complaints across the years 2014 - 2018"
        },
        {
            "cell_type": "code",
            "execution_count": 30,
            "metadata": {},
            "outputs": [
                {
                    "data": {
                        "text/plain": "Text(0.5, 1.0, 'Total Complaints Per Year')"
                    },
                    "execution_count": 30,
                    "metadata": {},
                    "output_type": "execute_result"
                },
                {
                    "data": {
                        "image/png": "[encoded data removed]",
                        "text/plain": "<Figure size 720x720 with 1 Axes>"
                    },
                    "metadata": {
                        "needs_background": "light"
                    },
                    "output_type": "display_data"
                }
            ],
            "source": "df_data_1.plot(x=\"created_date\", y=\"complaint_type\", kind=\"bar\", figsize = (10,10), color=sns.color_palette(\"Blues\", len(df_data_1)))\nplt.title('Total Complaints Per Year')"
        },
        {
            "cell_type": "markdown",
            "metadata": {},
            "source": "### Step 14 - Create a set of predictor x and target y variables"
        },
        {
            "cell_type": "code",
            "execution_count": 31,
            "metadata": {},
            "outputs": [],
            "source": "x = df_data_1[\"created_date\"]\ny = df_data_1[\"complaint_type\"]"
        },
        {
            "cell_type": "markdown",
            "metadata": {},
            "source": "### Step 15 - Preprocessing predictor data for modelling"
        },
        {
            "cell_type": "code",
            "execution_count": 32,
            "metadata": {},
            "outputs": [],
            "source": "x = np.asarray(x)"
        },
        {
            "cell_type": "code",
            "execution_count": 33,
            "metadata": {},
            "outputs": [],
            "source": "x = x.reshape(-1, 1)"
        },
        {
            "cell_type": "markdown",
            "metadata": {},
            "source": "### Step 16 - Defining and fitting the model"
        },
        {
            "cell_type": "code",
            "execution_count": 34,
            "metadata": {},
            "outputs": [
                {
                    "data": {
                        "text/plain": "LinearRegression(copy_X=True, fit_intercept=True, n_jobs=None,\n         normalize=False)"
                    },
                    "execution_count": 34,
                    "metadata": {},
                    "output_type": "execute_result"
                }
            ],
            "source": "from sklearn.linear_model import LinearRegression \nlinear_reg = LinearRegression()\nlinear_reg.fit(x,y)"
        },
        {
            "cell_type": "markdown",
            "metadata": {},
            "source": "### Step 17 - Using the trained model to predict total number of complaints that department can expect for the year 2019"
        },
        {
            "cell_type": "code",
            "execution_count": 35,
            "metadata": {},
            "outputs": [
                {
                    "data": {
                        "text/plain": "array([255742.90000001])"
                    },
                    "execution_count": 35,
                    "metadata": {},
                    "output_type": "execute_result"
                }
            ],
            "source": "linear_reg.predict([[2019]])"
        },
        {
            "cell_type": "markdown",
            "metadata": {},
            "source": "### Conclusions : A simple model can be created based on historic data available, to predict the number of future complaints for 2019\n### using Linear Regression Algorithm as we are trying to predict a continuous value (number of complaints) based on single variable (date)."
        },
        {
            "cell_type": "markdown",
            "metadata": {},
            "source": "### Creating a predictive model using Decision Tree Classification algorithm to estimate the probability/possibility of complaints of \n### specific type (here top complaint) based on the relation between its occurrence due to different characteristics of a house."
        },
        {
            "cell_type": "markdown",
            "metadata": {},
            "source": "### Step 1 - Create a pandas dataframe \"df_data_2\" with only 2 columns from the data available in csv format"
        },
        {
            "cell_type": "code",
            "execution_count": 40,
            "metadata": {},
            "outputs": [
                {
                    "data": {
                        "text/html": "<div>\n<style scoped>\n    .dataframe tbody tr th:only-of-type {\n        vertical-align: middle;\n    }\n\n    .dataframe tbody tr th {\n        vertical-align: top;\n    }\n\n    .dataframe thead th {\n        text-align: right;\n    }\n</style>\n<table border=\"1\" class=\"dataframe\">\n  <thead>\n    <tr style=\"text-align: right;\">\n      <th></th>\n      <th>complaint_type</th>\n      <th>incident_address</th>\n    </tr>\n  </thead>\n  <tbody>\n    <tr>\n      <th>0</th>\n      <td>GENERAL</td>\n      <td>1055 JEROME AVENUE</td>\n    </tr>\n    <tr>\n      <th>1</th>\n      <td>APPLIANCE</td>\n      <td>441 BROOKLYN AVENUE</td>\n    </tr>\n    <tr>\n      <th>2</th>\n      <td>WATER LEAK</td>\n      <td>24-35 CRESCENT STREET</td>\n    </tr>\n    <tr>\n      <th>3</th>\n      <td>PLUMBING</td>\n      <td>778 LINCOLN PLACE</td>\n    </tr>\n    <tr>\n      <th>4</th>\n      <td>GENERAL</td>\n      <td>1405 70 STREET</td>\n    </tr>\n  </tbody>\n</table>\n</div>",
                        "text/plain": "  complaint_type       incident_address\n0        GENERAL     1055 JEROME AVENUE\n1      APPLIANCE    441 BROOKLYN AVENUE\n2     WATER LEAK  24-35 CRESCENT STREET\n3       PLUMBING      778 LINCOLN PLACE\n4        GENERAL         1405 70 STREET"
                    },
                    "execution_count": 40,
                    "metadata": {},
                    "output_type": "execute_result"
                }
            ],
            "source": "col = ['complaint_type', 'incident_address']\n\nbody = client_273faebd9bbe4696bb7782fea6804875.get_object(Bucket='capstoneex1ram-donotdelete-pr-c3pfkhjz0s3lno',Key='fhrw-4uyv.csv')['Body']\n# add missing __iter__ method, so pandas accepts body as file-like object\nif not hasattr(body, \"__iter__\"): body.__iter__ = types.MethodType( __iter__, body )\n    \ndf_data_2 = pd.read_csv(body, usecols = col)\ndf_data_2.head()"
        },
        {
            "cell_type": "markdown",
            "metadata": {},
            "source": "### Step 2 - Identify unique values for the column complaint_type"
        },
        {
            "cell_type": "code",
            "execution_count": 41,
            "metadata": {},
            "outputs": [
                {
                    "data": {
                        "text/plain": "array(['GENERAL', 'APPLIANCE', 'WATER LEAK', 'PLUMBING', 'ELECTRIC',\n       'HEAT/HOT WATER', 'UNSANITARY CONDITION', 'DOOR/WINDOW', 'SAFETY',\n       'PAINT/PLASTER', 'FLOORING/STAIRS', 'ELEVATOR', 'Safety',\n       'Unsanitary Condition', 'OUTSIDE BUILDING', 'General', 'Appliance',\n       'Mold', 'Plumbing', 'Outside Building', 'HPD Literature Request',\n       'HEATING', 'GENERAL CONSTRUCTION', 'PAINT - PLASTER', 'NONCONST',\n       'CONSTRUCTION', 'AGENCY', 'STRUCTURAL', 'VACANT APARTMENT'],\n      dtype=object)"
                    },
                    "execution_count": 41,
                    "metadata": {},
                    "output_type": "execute_result"
                }
            ],
            "source": "df_data_2[\"complaint_type\"].unique()"
        },
        {
            "cell_type": "markdown",
            "metadata": {},
            "source": "### Covert multi-label data of the column complaint_type to binary in order to create a model that predicts the \"Probabilty of occurance of top complaint type\"\n###  based on given house characteristics"
        },
        {
            "cell_type": "code",
            "execution_count": null,
            "metadata": {},
            "outputs": [],
            "source": "#Step 3 - Categorize values for the column complaint_type into 2 classes YES & NO i.e. complaints related to heat and hot water are lablled yes and all others as no"
        },
        {
            "cell_type": "code",
            "execution_count": 42,
            "metadata": {},
            "outputs": [
                {
                    "data": {
                        "text/html": "<div>\n<style scoped>\n    .dataframe tbody tr th:only-of-type {\n        vertical-align: middle;\n    }\n\n    .dataframe tbody tr th {\n        vertical-align: top;\n    }\n\n    .dataframe thead th {\n        text-align: right;\n    }\n</style>\n<table border=\"1\" class=\"dataframe\">\n  <thead>\n    <tr style=\"text-align: right;\">\n      <th></th>\n      <th>complaint_type</th>\n      <th>incident_address</th>\n    </tr>\n  </thead>\n  <tbody>\n    <tr>\n      <th>0</th>\n      <td>NO</td>\n      <td>1055 JEROME AVENUE</td>\n    </tr>\n    <tr>\n      <th>1</th>\n      <td>NO</td>\n      <td>441 BROOKLYN AVENUE</td>\n    </tr>\n    <tr>\n      <th>2</th>\n      <td>NO</td>\n      <td>24-35 CRESCENT STREET</td>\n    </tr>\n    <tr>\n      <th>3</th>\n      <td>NO</td>\n      <td>778 LINCOLN PLACE</td>\n    </tr>\n    <tr>\n      <th>4</th>\n      <td>NO</td>\n      <td>1405 70 STREET</td>\n    </tr>\n  </tbody>\n</table>\n</div>",
                        "text/plain": "  complaint_type       incident_address\n0             NO     1055 JEROME AVENUE\n1             NO    441 BROOKLYN AVENUE\n2             NO  24-35 CRESCENT STREET\n3             NO      778 LINCOLN PLACE\n4             NO         1405 70 STREET"
                    },
                    "execution_count": 42,
                    "metadata": {},
                    "output_type": "execute_result"
                }
            ],
            "source": "import numpy as np\ndf_data_2[\"complaint_type\"] = np.where(df_data_2[\"complaint_type\"]=='HEAT/HOT WATER','YES',df_data_2[\"complaint_type\"])\ndf_data_2[\"complaint_type\"] = np.where(df_data_2[\"complaint_type\"]=='HEATING','YES',df_data_2[\"complaint_type\"])\ndf_data_2[\"complaint_type\"] = np.where(df_data_2[\"complaint_type\"]!='YES', 'NO',df_data_2[\"complaint_type\"])\ndf_data_2.head()"
        },
        {
            "cell_type": "markdown",
            "metadata": {},
            "source": "### Step 4 - Create a pandas dataframe \"df_pluto_data\" containing 5 columns from the data available in csv format"
        },
        {
            "cell_type": "code",
            "execution_count": 43,
            "metadata": {},
            "outputs": [
                {
                    "data": {
                        "text/html": "<div>\n<style scoped>\n    .dataframe tbody tr th:only-of-type {\n        vertical-align: middle;\n    }\n\n    .dataframe tbody tr th {\n        vertical-align: top;\n    }\n\n    .dataframe thead th {\n        text-align: right;\n    }\n</style>\n<table border=\"1\" class=\"dataframe\">\n  <thead>\n    <tr style=\"text-align: right;\">\n      <th></th>\n      <th>address</th>\n      <th>bldgarea</th>\n      <th>resarea</th>\n      <th>numfloors</th>\n      <th>bldgdepth</th>\n    </tr>\n  </thead>\n  <tbody>\n    <tr>\n      <th>0</th>\n      <td>CITY ISLAND AVENUE</td>\n      <td>0.0</td>\n      <td>NaN</td>\n      <td>0.0</td>\n      <td>0.0</td>\n    </tr>\n    <tr>\n      <th>1</th>\n      <td>8-03 117 STREET</td>\n      <td>3130.0</td>\n      <td>3130.0</td>\n      <td>2.5</td>\n      <td>25.0</td>\n    </tr>\n    <tr>\n      <th>2</th>\n      <td>SEMINOLE AVENUE</td>\n      <td>0.0</td>\n      <td>NaN</td>\n      <td>0.0</td>\n      <td>0.0</td>\n    </tr>\n    <tr>\n      <th>3</th>\n      <td>EAST 156 STREET</td>\n      <td>0.0</td>\n      <td>NaN</td>\n      <td>0.0</td>\n      <td>0.0</td>\n    </tr>\n    <tr>\n      <th>4</th>\n      <td>216 FRANKLIN AVENUE</td>\n      <td>1590.0</td>\n      <td>1590.0</td>\n      <td>2.5</td>\n      <td>30.0</td>\n    </tr>\n  </tbody>\n</table>\n</div>",
                        "text/plain": "                address  bldgarea  resarea  numfloors  bldgdepth\n0    CITY ISLAND AVENUE       0.0      NaN        0.0        0.0\n1       8-03 117 STREET    3130.0   3130.0        2.5       25.0\n2       SEMINOLE AVENUE       0.0      NaN        0.0        0.0\n3       EAST 156 STREET       0.0      NaN        0.0        0.0\n4   216 FRANKLIN AVENUE    1590.0   1590.0        2.5       30.0"
                    },
                    "execution_count": 43,
                    "metadata": {},
                    "output_type": "execute_result"
                }
            ],
            "source": "col = ['address','resarea','bldgarea','bldgdepth','numfloors']\n\nbody = client_273faebd9bbe4696bb7782fea6804875.get_object(Bucket='capstoneex1ram-donotdelete-pr-c3pfkhjz0s3lno',Key='Pluto_All_Files_18v2_1.csv')['Body']\n# add missing __iter__ method, so pandas accepts body as file-like object\nif not hasattr(body, \"__iter__\"): body.__iter__ = types.MethodType( __iter__, body )\n    \ndf_pluto_data = pd.read_csv(body, usecols = col)\ndf_pluto_data.head()"
        },
        {
            "cell_type": "markdown",
            "metadata": {},
            "source": "### Step 5 - Discard duplicates"
        },
        {
            "cell_type": "code",
            "execution_count": 44,
            "metadata": {},
            "outputs": [
                {
                    "data": {
                        "text/html": "<div>\n<style scoped>\n    .dataframe tbody tr th:only-of-type {\n        vertical-align: middle;\n    }\n\n    .dataframe tbody tr th {\n        vertical-align: top;\n    }\n\n    .dataframe thead th {\n        text-align: right;\n    }\n</style>\n<table border=\"1\" class=\"dataframe\">\n  <thead>\n    <tr style=\"text-align: right;\">\n      <th></th>\n      <th>address</th>\n      <th>bldgarea</th>\n      <th>resarea</th>\n      <th>numfloors</th>\n      <th>bldgdepth</th>\n    </tr>\n  </thead>\n  <tbody>\n    <tr>\n      <th>0</th>\n      <td>CITY ISLAND AVENUE</td>\n      <td>0.0</td>\n      <td>NaN</td>\n      <td>0.0</td>\n      <td>0.0</td>\n    </tr>\n    <tr>\n      <th>1</th>\n      <td>8-03 117 STREET</td>\n      <td>3130.0</td>\n      <td>3130.0</td>\n      <td>2.5</td>\n      <td>25.0</td>\n    </tr>\n    <tr>\n      <th>2</th>\n      <td>SEMINOLE AVENUE</td>\n      <td>0.0</td>\n      <td>NaN</td>\n      <td>0.0</td>\n      <td>0.0</td>\n    </tr>\n    <tr>\n      <th>3</th>\n      <td>EAST 156 STREET</td>\n      <td>0.0</td>\n      <td>NaN</td>\n      <td>0.0</td>\n      <td>0.0</td>\n    </tr>\n    <tr>\n      <th>4</th>\n      <td>216 FRANKLIN AVENUE</td>\n      <td>1590.0</td>\n      <td>1590.0</td>\n      <td>2.5</td>\n      <td>30.0</td>\n    </tr>\n  </tbody>\n</table>\n</div>",
                        "text/plain": "                address  bldgarea  resarea  numfloors  bldgdepth\n0    CITY ISLAND AVENUE       0.0      NaN        0.0        0.0\n1       8-03 117 STREET    3130.0   3130.0        2.5       25.0\n2       SEMINOLE AVENUE       0.0      NaN        0.0        0.0\n3       EAST 156 STREET       0.0      NaN        0.0        0.0\n4   216 FRANKLIN AVENUE    1590.0   1590.0        2.5       30.0"
                    },
                    "execution_count": 44,
                    "metadata": {},
                    "output_type": "execute_result"
                }
            ],
            "source": "df_pluto_data.drop_duplicates(subset=\"address\", keep='first', inplace=True)\ndf_pluto_data.head()"
        },
        {
            "cell_type": "markdown",
            "metadata": {},
            "source": "### Step 6 - Change column name from incident_address to address to facilitate merging of two dataframes i.e. df_311nyc and df_pluto"
        },
        {
            "cell_type": "code",
            "execution_count": 45,
            "metadata": {},
            "outputs": [
                {
                    "data": {
                        "text/html": "<div>\n<style scoped>\n    .dataframe tbody tr th:only-of-type {\n        vertical-align: middle;\n    }\n\n    .dataframe tbody tr th {\n        vertical-align: top;\n    }\n\n    .dataframe thead th {\n        text-align: right;\n    }\n</style>\n<table border=\"1\" class=\"dataframe\">\n  <thead>\n    <tr style=\"text-align: right;\">\n      <th></th>\n      <th>complaint_type</th>\n      <th>address</th>\n    </tr>\n  </thead>\n  <tbody>\n    <tr>\n      <th>0</th>\n      <td>NO</td>\n      <td>1055 JEROME AVENUE</td>\n    </tr>\n    <tr>\n      <th>1</th>\n      <td>NO</td>\n      <td>441 BROOKLYN AVENUE</td>\n    </tr>\n    <tr>\n      <th>2</th>\n      <td>NO</td>\n      <td>24-35 CRESCENT STREET</td>\n    </tr>\n    <tr>\n      <th>3</th>\n      <td>NO</td>\n      <td>778 LINCOLN PLACE</td>\n    </tr>\n    <tr>\n      <th>4</th>\n      <td>NO</td>\n      <td>1405 70 STREET</td>\n    </tr>\n  </tbody>\n</table>\n</div>",
                        "text/plain": "  complaint_type                address\n0             NO     1055 JEROME AVENUE\n1             NO    441 BROOKLYN AVENUE\n2             NO  24-35 CRESCENT STREET\n3             NO      778 LINCOLN PLACE\n4             NO         1405 70 STREET"
                    },
                    "execution_count": 45,
                    "metadata": {},
                    "output_type": "execute_result"
                }
            ],
            "source": "df_data_2.rename(columns={\"incident_address\":\"address\"},inplace=True)\ndf_data_2.head()"
        },
        {
            "cell_type": "code",
            "execution_count": null,
            "metadata": {},
            "outputs": [],
            "source": "#Step 7 - Merge the above mentioned 2 dataframes using inner join"
        },
        {
            "cell_type": "code",
            "execution_count": 46,
            "metadata": {},
            "outputs": [
                {
                    "data": {
                        "text/html": "<div>\n<style scoped>\n    .dataframe tbody tr th:only-of-type {\n        vertical-align: middle;\n    }\n\n    .dataframe tbody tr th {\n        vertical-align: top;\n    }\n\n    .dataframe thead th {\n        text-align: right;\n    }\n</style>\n<table border=\"1\" class=\"dataframe\">\n  <thead>\n    <tr style=\"text-align: right;\">\n      <th></th>\n      <th>complaint_type</th>\n      <th>address</th>\n      <th>bldgarea</th>\n      <th>resarea</th>\n      <th>numfloors</th>\n      <th>bldgdepth</th>\n    </tr>\n  </thead>\n  <tbody>\n    <tr>\n      <th>0</th>\n      <td>NO</td>\n      <td>1055 JEROME AVENUE</td>\n      <td>65667.0</td>\n      <td>65667.0</td>\n      <td>7.0</td>\n      <td>71.0</td>\n    </tr>\n    <tr>\n      <th>1</th>\n      <td>YES</td>\n      <td>1055 JEROME AVENUE</td>\n      <td>65667.0</td>\n      <td>65667.0</td>\n      <td>7.0</td>\n      <td>71.0</td>\n    </tr>\n    <tr>\n      <th>2</th>\n      <td>NO</td>\n      <td>1055 JEROME AVENUE</td>\n      <td>65667.0</td>\n      <td>65667.0</td>\n      <td>7.0</td>\n      <td>71.0</td>\n    </tr>\n    <tr>\n      <th>3</th>\n      <td>NO</td>\n      <td>1055 JEROME AVENUE</td>\n      <td>65667.0</td>\n      <td>65667.0</td>\n      <td>7.0</td>\n      <td>71.0</td>\n    </tr>\n    <tr>\n      <th>4</th>\n      <td>YES</td>\n      <td>1055 JEROME AVENUE</td>\n      <td>65667.0</td>\n      <td>65667.0</td>\n      <td>7.0</td>\n      <td>71.0</td>\n    </tr>\n    <tr>\n      <th>5</th>\n      <td>NO</td>\n      <td>1055 JEROME AVENUE</td>\n      <td>65667.0</td>\n      <td>65667.0</td>\n      <td>7.0</td>\n      <td>71.0</td>\n    </tr>\n    <tr>\n      <th>6</th>\n      <td>NO</td>\n      <td>1055 JEROME AVENUE</td>\n      <td>65667.0</td>\n      <td>65667.0</td>\n      <td>7.0</td>\n      <td>71.0</td>\n    </tr>\n    <tr>\n      <th>7</th>\n      <td>NO</td>\n      <td>1055 JEROME AVENUE</td>\n      <td>65667.0</td>\n      <td>65667.0</td>\n      <td>7.0</td>\n      <td>71.0</td>\n    </tr>\n    <tr>\n      <th>8</th>\n      <td>NO</td>\n      <td>1055 JEROME AVENUE</td>\n      <td>65667.0</td>\n      <td>65667.0</td>\n      <td>7.0</td>\n      <td>71.0</td>\n    </tr>\n    <tr>\n      <th>9</th>\n      <td>NO</td>\n      <td>1055 JEROME AVENUE</td>\n      <td>65667.0</td>\n      <td>65667.0</td>\n      <td>7.0</td>\n      <td>71.0</td>\n    </tr>\n    <tr>\n      <th>10</th>\n      <td>NO</td>\n      <td>1055 JEROME AVENUE</td>\n      <td>65667.0</td>\n      <td>65667.0</td>\n      <td>7.0</td>\n      <td>71.0</td>\n    </tr>\n    <tr>\n      <th>11</th>\n      <td>NO</td>\n      <td>1055 JEROME AVENUE</td>\n      <td>65667.0</td>\n      <td>65667.0</td>\n      <td>7.0</td>\n      <td>71.0</td>\n    </tr>\n    <tr>\n      <th>12</th>\n      <td>NO</td>\n      <td>1055 JEROME AVENUE</td>\n      <td>65667.0</td>\n      <td>65667.0</td>\n      <td>7.0</td>\n      <td>71.0</td>\n    </tr>\n    <tr>\n      <th>13</th>\n      <td>NO</td>\n      <td>1055 JEROME AVENUE</td>\n      <td>65667.0</td>\n      <td>65667.0</td>\n      <td>7.0</td>\n      <td>71.0</td>\n    </tr>\n    <tr>\n      <th>14</th>\n      <td>NO</td>\n      <td>1055 JEROME AVENUE</td>\n      <td>65667.0</td>\n      <td>65667.0</td>\n      <td>7.0</td>\n      <td>71.0</td>\n    </tr>\n    <tr>\n      <th>15</th>\n      <td>YES</td>\n      <td>1055 JEROME AVENUE</td>\n      <td>65667.0</td>\n      <td>65667.0</td>\n      <td>7.0</td>\n      <td>71.0</td>\n    </tr>\n    <tr>\n      <th>16</th>\n      <td>NO</td>\n      <td>1055 JEROME AVENUE</td>\n      <td>65667.0</td>\n      <td>65667.0</td>\n      <td>7.0</td>\n      <td>71.0</td>\n    </tr>\n    <tr>\n      <th>17</th>\n      <td>NO</td>\n      <td>1055 JEROME AVENUE</td>\n      <td>65667.0</td>\n      <td>65667.0</td>\n      <td>7.0</td>\n      <td>71.0</td>\n    </tr>\n    <tr>\n      <th>18</th>\n      <td>NO</td>\n      <td>1055 JEROME AVENUE</td>\n      <td>65667.0</td>\n      <td>65667.0</td>\n      <td>7.0</td>\n      <td>71.0</td>\n    </tr>\n    <tr>\n      <th>19</th>\n      <td>NO</td>\n      <td>1055 JEROME AVENUE</td>\n      <td>65667.0</td>\n      <td>65667.0</td>\n      <td>7.0</td>\n      <td>71.0</td>\n    </tr>\n  </tbody>\n</table>\n</div>",
                        "text/plain": "   complaint_type             address  bldgarea  resarea  numfloors  bldgdepth\n0              NO  1055 JEROME AVENUE   65667.0  65667.0        7.0       71.0\n1             YES  1055 JEROME AVENUE   65667.0  65667.0        7.0       71.0\n2              NO  1055 JEROME AVENUE   65667.0  65667.0        7.0       71.0\n3              NO  1055 JEROME AVENUE   65667.0  65667.0        7.0       71.0\n4             YES  1055 JEROME AVENUE   65667.0  65667.0        7.0       71.0\n5              NO  1055 JEROME AVENUE   65667.0  65667.0        7.0       71.0\n6              NO  1055 JEROME AVENUE   65667.0  65667.0        7.0       71.0\n7              NO  1055 JEROME AVENUE   65667.0  65667.0        7.0       71.0\n8              NO  1055 JEROME AVENUE   65667.0  65667.0        7.0       71.0\n9              NO  1055 JEROME AVENUE   65667.0  65667.0        7.0       71.0\n10             NO  1055 JEROME AVENUE   65667.0  65667.0        7.0       71.0\n11             NO  1055 JEROME AVENUE   65667.0  65667.0        7.0       71.0\n12             NO  1055 JEROME AVENUE   65667.0  65667.0        7.0       71.0\n13             NO  1055 JEROME AVENUE   65667.0  65667.0        7.0       71.0\n14             NO  1055 JEROME AVENUE   65667.0  65667.0        7.0       71.0\n15            YES  1055 JEROME AVENUE   65667.0  65667.0        7.0       71.0\n16             NO  1055 JEROME AVENUE   65667.0  65667.0        7.0       71.0\n17             NO  1055 JEROME AVENUE   65667.0  65667.0        7.0       71.0\n18             NO  1055 JEROME AVENUE   65667.0  65667.0        7.0       71.0\n19             NO  1055 JEROME AVENUE   65667.0  65667.0        7.0       71.0"
                    },
                    "execution_count": 46,
                    "metadata": {},
                    "output_type": "execute_result"
                }
            ],
            "source": "df_data_2_inner = pd.merge(df_data_2, df_pluto_data, on='address', how='inner')\ndf_data_2_inner.head(20)"
        },
        {
            "cell_type": "code",
            "execution_count": 48,
            "metadata": {},
            "outputs": [
                {
                    "data": {
                        "text/html": "<div>\n<style scoped>\n    .dataframe tbody tr th:only-of-type {\n        vertical-align: middle;\n    }\n\n    .dataframe tbody tr th {\n        vertical-align: top;\n    }\n\n    .dataframe thead th {\n        text-align: right;\n    }\n</style>\n<table border=\"1\" class=\"dataframe\">\n  <thead>\n    <tr style=\"text-align: right;\">\n      <th></th>\n      <th>complaint_type</th>\n      <th>address</th>\n      <th>bldgarea</th>\n      <th>resarea</th>\n      <th>numfloors</th>\n      <th>bldgdepth</th>\n    </tr>\n  </thead>\n  <tbody>\n    <tr>\n      <th>4647752</th>\n      <td>NO</td>\n      <td>390 GRAND CONCOURSE</td>\n      <td>20000.0</td>\n      <td>18600.0</td>\n      <td>5.0</td>\n      <td>80.0</td>\n    </tr>\n    <tr>\n      <th>4647753</th>\n      <td>NO</td>\n      <td>390 GRAND CONCOURSE</td>\n      <td>20000.0</td>\n      <td>18600.0</td>\n      <td>5.0</td>\n      <td>80.0</td>\n    </tr>\n    <tr>\n      <th>4647754</th>\n      <td>NO</td>\n      <td>390 GRAND CONCOURSE</td>\n      <td>20000.0</td>\n      <td>18600.0</td>\n      <td>5.0</td>\n      <td>80.0</td>\n    </tr>\n    <tr>\n      <th>4647755</th>\n      <td>NO</td>\n      <td>390 GRAND CONCOURSE</td>\n      <td>20000.0</td>\n      <td>18600.0</td>\n      <td>5.0</td>\n      <td>80.0</td>\n    </tr>\n    <tr>\n      <th>4647756</th>\n      <td>NO</td>\n      <td>390 GRAND CONCOURSE</td>\n      <td>20000.0</td>\n      <td>18600.0</td>\n      <td>5.0</td>\n      <td>80.0</td>\n    </tr>\n    <tr>\n      <th>4647757</th>\n      <td>NO</td>\n      <td>390 GRAND CONCOURSE</td>\n      <td>20000.0</td>\n      <td>18600.0</td>\n      <td>5.0</td>\n      <td>80.0</td>\n    </tr>\n    <tr>\n      <th>4647758</th>\n      <td>NO</td>\n      <td>390 GRAND CONCOURSE</td>\n      <td>20000.0</td>\n      <td>18600.0</td>\n      <td>5.0</td>\n      <td>80.0</td>\n    </tr>\n    <tr>\n      <th>4647759</th>\n      <td>NO</td>\n      <td>1250 WARD AVENUE</td>\n      <td>175730.0</td>\n      <td>0.0</td>\n      <td>5.0</td>\n      <td>108.0</td>\n    </tr>\n    <tr>\n      <th>4647760</th>\n      <td>NO</td>\n      <td>1250 WARD AVENUE</td>\n      <td>175730.0</td>\n      <td>0.0</td>\n      <td>5.0</td>\n      <td>108.0</td>\n    </tr>\n    <tr>\n      <th>4647761</th>\n      <td>NO</td>\n      <td>1250 WARD AVENUE</td>\n      <td>175730.0</td>\n      <td>0.0</td>\n      <td>5.0</td>\n      <td>108.0</td>\n    </tr>\n    <tr>\n      <th>4647762</th>\n      <td>NO</td>\n      <td>1250 WARD AVENUE</td>\n      <td>175730.0</td>\n      <td>0.0</td>\n      <td>5.0</td>\n      <td>108.0</td>\n    </tr>\n    <tr>\n      <th>4647763</th>\n      <td>NO</td>\n      <td>1250 WARD AVENUE</td>\n      <td>175730.0</td>\n      <td>0.0</td>\n      <td>5.0</td>\n      <td>108.0</td>\n    </tr>\n    <tr>\n      <th>4647764</th>\n      <td>NO</td>\n      <td>1250 WARD AVENUE</td>\n      <td>175730.0</td>\n      <td>0.0</td>\n      <td>5.0</td>\n      <td>108.0</td>\n    </tr>\n    <tr>\n      <th>4647765</th>\n      <td>YES</td>\n      <td>922 JEFFERSON AVENUE</td>\n      <td>3228.0</td>\n      <td>3228.0</td>\n      <td>3.0</td>\n      <td>47.0</td>\n    </tr>\n    <tr>\n      <th>4647766</th>\n      <td>NO</td>\n      <td>277 19 STREET</td>\n      <td>8975.0</td>\n      <td>8887.0</td>\n      <td>4.0</td>\n      <td>70.0</td>\n    </tr>\n    <tr>\n      <th>4647767</th>\n      <td>NO</td>\n      <td>277 19 STREET</td>\n      <td>8975.0</td>\n      <td>8887.0</td>\n      <td>4.0</td>\n      <td>70.0</td>\n    </tr>\n    <tr>\n      <th>4647768</th>\n      <td>YES</td>\n      <td>601 SUTTER AVENUE</td>\n      <td>3042.0</td>\n      <td>2038.0</td>\n      <td>3.0</td>\n      <td>52.0</td>\n    </tr>\n    <tr>\n      <th>4647769</th>\n      <td>NO</td>\n      <td>34-01 106 STREET</td>\n      <td>3325.0</td>\n      <td>3325.0</td>\n      <td>3.0</td>\n      <td>47.0</td>\n    </tr>\n    <tr>\n      <th>4647770</th>\n      <td>YES</td>\n      <td>149-39 123 STREET</td>\n      <td>1910.0</td>\n      <td>1910.0</td>\n      <td>2.0</td>\n      <td>48.5</td>\n    </tr>\n    <tr>\n      <th>4647771</th>\n      <td>YES</td>\n      <td>41-50 CASE STREET</td>\n      <td>3160.0</td>\n      <td>3160.0</td>\n      <td>3.0</td>\n      <td>56.0</td>\n    </tr>\n  </tbody>\n</table>\n</div>",
                        "text/plain": "        complaint_type               address  bldgarea  resarea  numfloors  \\\n4647752             NO   390 GRAND CONCOURSE   20000.0  18600.0        5.0   \n4647753             NO   390 GRAND CONCOURSE   20000.0  18600.0        5.0   \n4647754             NO   390 GRAND CONCOURSE   20000.0  18600.0        5.0   \n4647755             NO   390 GRAND CONCOURSE   20000.0  18600.0        5.0   \n4647756             NO   390 GRAND CONCOURSE   20000.0  18600.0        5.0   \n4647757             NO   390 GRAND CONCOURSE   20000.0  18600.0        5.0   \n4647758             NO   390 GRAND CONCOURSE   20000.0  18600.0        5.0   \n4647759             NO      1250 WARD AVENUE  175730.0      0.0        5.0   \n4647760             NO      1250 WARD AVENUE  175730.0      0.0        5.0   \n4647761             NO      1250 WARD AVENUE  175730.0      0.0        5.0   \n4647762             NO      1250 WARD AVENUE  175730.0      0.0        5.0   \n4647763             NO      1250 WARD AVENUE  175730.0      0.0        5.0   \n4647764             NO      1250 WARD AVENUE  175730.0      0.0        5.0   \n4647765            YES  922 JEFFERSON AVENUE    3228.0   3228.0        3.0   \n4647766             NO         277 19 STREET    8975.0   8887.0        4.0   \n4647767             NO         277 19 STREET    8975.0   8887.0        4.0   \n4647768            YES     601 SUTTER AVENUE    3042.0   2038.0        3.0   \n4647769             NO      34-01 106 STREET    3325.0   3325.0        3.0   \n4647770            YES     149-39 123 STREET    1910.0   1910.0        2.0   \n4647771            YES     41-50 CASE STREET    3160.0   3160.0        3.0   \n\n         bldgdepth  \n4647752       80.0  \n4647753       80.0  \n4647754       80.0  \n4647755       80.0  \n4647756       80.0  \n4647757       80.0  \n4647758       80.0  \n4647759      108.0  \n4647760      108.0  \n4647761      108.0  \n4647762      108.0  \n4647763      108.0  \n4647764      108.0  \n4647765       47.0  \n4647766       70.0  \n4647767       70.0  \n4647768       52.0  \n4647769       47.0  \n4647770       48.5  \n4647771       56.0  "
                    },
                    "execution_count": 48,
                    "metadata": {},
                    "output_type": "execute_result"
                }
            ],
            "source": "df_data_2_inner.tail(20)"
        },
        {
            "cell_type": "markdown",
            "metadata": {},
            "source": "### Step 8 - Drop null values"
        },
        {
            "cell_type": "code",
            "execution_count": 49,
            "metadata": {},
            "outputs": [],
            "source": "df_data_2_inner.dropna(how=\"any\",inplace=True)"
        },
        {
            "cell_type": "markdown",
            "metadata": {},
            "source": "### Step 9 - Create set of predictor x and target y variable"
        },
        {
            "cell_type": "code",
            "execution_count": 50,
            "metadata": {},
            "outputs": [],
            "source": "x = df_data_2_inner[['resarea','bldgarea','bldgdepth','numfloors']].values\ny = df_data_2_inner[[\"complaint_type\"]].values"
        },
        {
            "cell_type": "markdown",
            "metadata": {},
            "source": "### Step 10 - Create training and testing dataset"
        },
        {
            "cell_type": "code",
            "execution_count": 51,
            "metadata": {},
            "outputs": [],
            "source": "from sklearn.model_selection import train_test_split\ntrain_X, test_X, train_Y, test_Y = train_test_split(x,y,test_size=0.3,random_state=4)"
        },
        {
            "cell_type": "markdown",
            "metadata": {},
            "source": "### Step 11 - Definie the Decision Tree Classifier"
        },
        {
            "cell_type": "code",
            "execution_count": 52,
            "metadata": {},
            "outputs": [
                {
                    "name": "stdout",
                    "output_type": "stream",
                    "text": "DecisionTreeClassifier(class_weight=None, criterion='entropy', max_depth=4,\n            max_features=None, max_leaf_nodes=None,\n            min_impurity_decrease=0.0, min_impurity_split=None,\n            min_samples_leaf=1, min_samples_split=2,\n            min_weight_fraction_leaf=0.0, presort=False, random_state=None,\n            splitter='best')\n"
                }
            ],
            "source": "from sklearn.tree import DecisionTreeClassifier\ncomplaintTree = DecisionTreeClassifier(criterion=\"entropy\", max_depth = 4)\nprint(complaintTree)"
        },
        {
            "cell_type": "markdown",
            "metadata": {},
            "source": "### Step 12 - Training the model using training data"
        },
        {
            "cell_type": "code",
            "execution_count": 53,
            "metadata": {},
            "outputs": [
                {
                    "data": {
                        "text/plain": "DecisionTreeClassifier(class_weight=None, criterion='entropy', max_depth=4,\n            max_features=None, max_leaf_nodes=None,\n            min_impurity_decrease=0.0, min_impurity_split=None,\n            min_samples_leaf=1, min_samples_split=2,\n            min_weight_fraction_leaf=0.0, presort=False, random_state=None,\n            splitter='best')"
                    },
                    "execution_count": 53,
                    "metadata": {},
                    "output_type": "execute_result"
                }
            ],
            "source": "complaintTree.fit(train_X,train_Y)"
        },
        {
            "cell_type": "markdown",
            "metadata": {},
            "source": "### Step 13 - Testing the model using testing data"
        },
        {
            "cell_type": "code",
            "execution_count": 54,
            "metadata": {},
            "outputs": [],
            "source": "predicted_Y = complaintTree.predict(test_X)"
        },
        {
            "cell_type": "markdown",
            "metadata": {},
            "source": "### Step 14 - Measuring accuracy of the classifier"
        },
        {
            "cell_type": "code",
            "execution_count": 55,
            "metadata": {},
            "outputs": [
                {
                    "data": {
                        "text/plain": "0.6548454710117153"
                    },
                    "execution_count": 55,
                    "metadata": {},
                    "output_type": "execute_result"
                }
            ],
            "source": "from sklearn import metrics\nmetrics.accuracy_score(test_Y, predicted_Y)"
        },
        {
            "cell_type": "markdown",
            "metadata": {},
            "source": "### Step 15 - Predicting probability if there will be any heat/hot water complaints for a house with the following characteristics \n### for resarea, bldgarea, bldgdepth, numfloors using our model"
        },
        {
            "cell_type": "code",
            "execution_count": 56,
            "metadata": {},
            "outputs": [
                {
                    "data": {
                        "text/plain": "array(['NO'], dtype=object)"
                    },
                    "execution_count": 56,
                    "metadata": {},
                    "output_type": "execute_result"
                }
            ],
            "source": "predictY = complaintTree.predict([[\"0.0\",\"10800\",\"141\",\"2\"]])\npredictY"
        },
        {
            "cell_type": "markdown",
            "metadata": {},
            "source": "### Conclusions : A predictive model can be created to estimate the probability of complaints of specific type (here top complaint) based on the relation between its occurrence due to different characteristics of a house."
        },
        {
            "cell_type": "markdown",
            "metadata": {},
            "source": "## Remember the question: Can a predictive model be built for future prediction of the possibility of Complaints of the type that you identified in response to Question 1?\n\n\n## Answer : Yes,  A predictive model can be created to estimate the probability of complaints of specific type (here top complaint) based on the relation between its occurrence due to different characteristics of a house.\n\n## Conclusions and Other Observations\n\n### From the graph plotted at Step - 8, we can conclude that number of top complaint type i.e. HEAT/HOT WATER increases at the beginning of every year i.e. during winters and decreses after mid-year i.e. during summers'\n\n### Conclusions : A simple model can be created based on historic data available, to predict the number of future complaints for 2019\n### using Linear Regression Algorithm as we are trying to predict a continuous value (number of complaints) based on single variable (date).\n\n### Creating a predictive model using Decision Tree Classification algorithm to estimate the probability/possibility of complaints of \n### specific type (here top complaint) based on the relation between its occurrence due to different characteristics of a house."
        },
        {
            "cell_type": "code",
            "execution_count": null,
            "metadata": {},
            "outputs": [],
            "source": ""
        }
    ],
    "metadata": {
        "kernelspec": {
            "display_name": "Python 3.6",
            "language": "python",
            "name": "python3"
        },
        "language_info": {
            "codemirror_mode": {
                "name": "ipython",
                "version": 3
            },
            "file_extension": ".py",
            "mimetype": "text/x-python",
            "name": "python",
            "nbconvert_exporter": "python",
            "pygments_lexer": "ipython3",
            "version": "3.6.8"
        }
    },
    "nbformat": 4,
    "nbformat_minor": 1
}